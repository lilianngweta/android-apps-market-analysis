{
 "cells": [
  {
   "cell_type": "markdown",
   "metadata": {
    "dc": {
     "key": "4"
    },
    "deletable": false,
    "editable": false,
    "run_control": {
     "frozen": true
    },
    "tags": [
     "context"
    ]
   },
   "source": [
    "## 1. Google Play Store apps and reviews\n",
    "<p>Mobile apps are everywhere. They are easy to create and can be lucrative. Because of these two factors, more and more apps are being developed. In this notebook, we will do a comprehensive analysis of the Android app market by comparing over ten thousand apps in Google Play across different categories. We'll look for insights in the data to devise strategies to drive growth and retention.</p>\n",
    "<p><img src=\"https://assets.datacamp.com/production/project_619/img/google_play_store.png\" alt=\"Google Play logo\"></p>\n",
    "<p>Let's take a look at the data, which consists of two files:</p>\n",
    "<ul>\n",
    "<li><code>apps.csv</code>: contains all the details of the applications on Google Play. There are 13 features that describe a given app.</li>\n",
    "<li><code>user_reviews.csv</code>: contains 100 reviews for each app, <a href=\"https://www.androidpolice.com/2019/01/21/google-play-stores-redesigned-ratings-and-reviews-section-lets-you-easily-filter-by-star-rating/\">most helpful first</a>. The text in each review has been pre-processed and attributed with three new features: Sentiment (Positive, Negative or Neutral), Sentiment Polarity and Sentiment Subjectivity.</li>\n",
    "</ul>"
   ]
  },
  {
   "cell_type": "code",
   "execution_count": 4,
   "metadata": {
    "dc": {
     "key": "4"
    },
    "tags": [
     "sample_code"
    ]
   },
   "outputs": [
    {
     "name": "stdout",
     "output_type": "stream",
     "text": [
      "Total number of apps in the dataset =  9659\n",
      "<class 'pandas.core.frame.DataFrame'>\n",
      "Int64Index: 9659 entries, 0 to 9658\n",
      "Data columns (total 14 columns):\n",
      " #   Column          Non-Null Count  Dtype  \n",
      "---  ------          --------------  -----  \n",
      " 0   Unnamed: 0      9659 non-null   int64  \n",
      " 1   App             9659 non-null   object \n",
      " 2   Category        9659 non-null   object \n",
      " 3   Rating          8196 non-null   float64\n",
      " 4   Reviews         9659 non-null   int64  \n",
      " 5   Size            8432 non-null   float64\n",
      " 6   Installs        9659 non-null   object \n",
      " 7   Type            9659 non-null   object \n",
      " 8   Price           9659 non-null   object \n",
      " 9   Content Rating  9659 non-null   object \n",
      " 10  Genres          9659 non-null   object \n",
      " 11  Last Updated    9659 non-null   object \n",
      " 12  Current Ver     9651 non-null   object \n",
      " 13  Android Ver     9657 non-null   object \n",
      "dtypes: float64(2), int64(2), object(10)\n",
      "memory usage: 1.1+ MB\n",
      "None\n"
     ]
    },
    {
     "data": {
      "text/html": [
       "<div>\n",
       "<style scoped>\n",
       "    .dataframe tbody tr th:only-of-type {\n",
       "        vertical-align: middle;\n",
       "    }\n",
       "\n",
       "    .dataframe tbody tr th {\n",
       "        vertical-align: top;\n",
       "    }\n",
       "\n",
       "    .dataframe thead th {\n",
       "        text-align: right;\n",
       "    }\n",
       "</style>\n",
       "<table border=\"1\" class=\"dataframe\">\n",
       "  <thead>\n",
       "    <tr style=\"text-align: right;\">\n",
       "      <th></th>\n",
       "      <th>Unnamed: 0</th>\n",
       "      <th>App</th>\n",
       "      <th>Category</th>\n",
       "      <th>Rating</th>\n",
       "      <th>Reviews</th>\n",
       "      <th>Size</th>\n",
       "      <th>Installs</th>\n",
       "      <th>Type</th>\n",
       "      <th>Price</th>\n",
       "      <th>Content Rating</th>\n",
       "      <th>Genres</th>\n",
       "      <th>Last Updated</th>\n",
       "      <th>Current Ver</th>\n",
       "      <th>Android Ver</th>\n",
       "    </tr>\n",
       "  </thead>\n",
       "  <tbody>\n",
       "    <tr>\n",
       "      <th>9081</th>\n",
       "      <td>10251</td>\n",
       "      <td>FCB Connect - FC Barcelona</td>\n",
       "      <td>SOCIAL</td>\n",
       "      <td>4.5</td>\n",
       "      <td>795</td>\n",
       "      <td>21.0</td>\n",
       "      <td>50,000+</td>\n",
       "      <td>Free</td>\n",
       "      <td>0</td>\n",
       "      <td>Teen</td>\n",
       "      <td>Social</td>\n",
       "      <td>June 7, 2018</td>\n",
       "      <td>2.1.5</td>\n",
       "      <td>4.1 and up</td>\n",
       "    </tr>\n",
       "    <tr>\n",
       "      <th>6726</th>\n",
       "      <td>7785</td>\n",
       "      <td>CR Fans: Mazos, Clanes y Grupos</td>\n",
       "      <td>FAMILY</td>\n",
       "      <td>4.3</td>\n",
       "      <td>219</td>\n",
       "      <td>4.3</td>\n",
       "      <td>5,000+</td>\n",
       "      <td>Free</td>\n",
       "      <td>0</td>\n",
       "      <td>Everyone</td>\n",
       "      <td>Entertainment</td>\n",
       "      <td>December 21, 2017</td>\n",
       "      <td>1.0.7</td>\n",
       "      <td>2.3 and up</td>\n",
       "    </tr>\n",
       "    <tr>\n",
       "      <th>7269</th>\n",
       "      <td>8354</td>\n",
       "      <td>df-Vegetable</td>\n",
       "      <td>BUSINESS</td>\n",
       "      <td>NaN</td>\n",
       "      <td>0</td>\n",
       "      <td>2.9</td>\n",
       "      <td>5+</td>\n",
       "      <td>Free</td>\n",
       "      <td>0</td>\n",
       "      <td>Everyone</td>\n",
       "      <td>Business</td>\n",
       "      <td>June 11, 2018</td>\n",
       "      <td>1.1</td>\n",
       "      <td>4.0.3 and up</td>\n",
       "    </tr>\n",
       "    <tr>\n",
       "      <th>3857</th>\n",
       "      <td>4787</td>\n",
       "      <td>X-ray scanner simulator</td>\n",
       "      <td>FAMILY</td>\n",
       "      <td>2.7</td>\n",
       "      <td>1616</td>\n",
       "      <td>3.0</td>\n",
       "      <td>500,000+</td>\n",
       "      <td>Free</td>\n",
       "      <td>0</td>\n",
       "      <td>Everyone</td>\n",
       "      <td>Casual</td>\n",
       "      <td>January 8, 2017</td>\n",
       "      <td>7</td>\n",
       "      <td>2.1 and up</td>\n",
       "    </tr>\n",
       "    <tr>\n",
       "      <th>3216</th>\n",
       "      <td>4046</td>\n",
       "      <td>Geometry Dash Meltdown</td>\n",
       "      <td>GAME</td>\n",
       "      <td>4.6</td>\n",
       "      <td>1591129</td>\n",
       "      <td>48.0</td>\n",
       "      <td>50,000,000+</td>\n",
       "      <td>Free</td>\n",
       "      <td>0</td>\n",
       "      <td>Everyone</td>\n",
       "      <td>Arcade</td>\n",
       "      <td>December 22, 2017</td>\n",
       "      <td>1.01</td>\n",
       "      <td>4.0 and up</td>\n",
       "    </tr>\n",
       "  </tbody>\n",
       "</table>\n",
       "</div>"
      ],
      "text/plain": [
       "      Unnamed: 0                              App  Category  Rating  Reviews  \\\n",
       "9081       10251       FCB Connect - FC Barcelona    SOCIAL     4.5      795   \n",
       "6726        7785  CR Fans: Mazos, Clanes y Grupos    FAMILY     4.3      219   \n",
       "7269        8354                     df-Vegetable  BUSINESS     NaN        0   \n",
       "3857        4787          X-ray scanner simulator    FAMILY     2.7     1616   \n",
       "3216        4046           Geometry Dash Meltdown      GAME     4.6  1591129   \n",
       "\n",
       "      Size     Installs  Type Price Content Rating         Genres  \\\n",
       "9081  21.0      50,000+  Free     0           Teen         Social   \n",
       "6726   4.3       5,000+  Free     0       Everyone  Entertainment   \n",
       "7269   2.9           5+  Free     0       Everyone       Business   \n",
       "3857   3.0     500,000+  Free     0       Everyone         Casual   \n",
       "3216  48.0  50,000,000+  Free     0       Everyone         Arcade   \n",
       "\n",
       "           Last Updated Current Ver   Android Ver  \n",
       "9081       June 7, 2018       2.1.5    4.1 and up  \n",
       "6726  December 21, 2017       1.0.7    2.3 and up  \n",
       "7269      June 11, 2018         1.1  4.0.3 and up  \n",
       "3857    January 8, 2017           7    2.1 and up  \n",
       "3216  December 22, 2017        1.01    4.0 and up  "
      ]
     },
     "execution_count": 4,
     "metadata": {},
     "output_type": "execute_result"
    }
   ],
   "source": [
    "# Read in dataset\n",
    "import pandas as pd\n",
    "apps_with_duplicates = pd.read_csv('datasets/apps.csv')\n",
    "\n",
    "# Drop duplicates\n",
    "apps = apps_with_duplicates.drop_duplicates()\n",
    "\n",
    "# Print the total number of apps\n",
    "print('Total number of apps in the dataset = ', len(apps.index))\n",
    "\n",
    "# Print a concise summary of apps dataframe\n",
    "print(apps.info())\n",
    "\n",
    "# Have a look at a random sample of n rows\n",
    "n = 5\n",
    "apps.sample(n)"
   ]
  },
  {
   "cell_type": "markdown",
   "metadata": {
    "dc": {
     "key": "11"
    },
    "deletable": false,
    "editable": false,
    "run_control": {
     "frozen": true
    },
    "tags": [
     "context"
    ]
   },
   "source": [
    "## 2. Data cleaning\n",
    "<p>The four features that we will be working with most frequently henceforth are <code>Installs</code>, <code>Size</code>, <code>Rating</code> and <code>Price</code>. The <code>info()</code> function (from the previous task)  told us that <code>Installs</code> and <code>Price</code> columns are of type <code>object</code> and not <code>int64</code> or <code>float64</code> as we would expect. This is because the column contains some characters more than just [0,9] digits. Ideally, we would want these columns to be numeric as their name suggests. <br>\n",
    "Hence, we now proceed to data cleaning and prepare our data to be consumed in our analyis later. Specifically, the presence of special characters (<code>, $ +</code>) in the <code>Installs</code> and <code>Price</code> columns make their conversion to a numerical data type difficult.</p>"
   ]
  },
  {
   "cell_type": "code",
   "execution_count": 5,
   "metadata": {
    "dc": {
     "key": "11"
    },
    "tags": [
     "sample_code"
    ]
   },
   "outputs": [],
   "source": [
    "# List of characters to remove\n",
    "chars_to_remove = ['+',',','$']\n",
    "# List of column names to clean\n",
    "cols_to_clean = ['Installs', 'Price']\n",
    "\n",
    "# Loop for each column\n",
    "for col in cols_to_clean:\n",
    "    # Replace each character with an empty string\n",
    "    for char in chars_to_remove:\n",
    "        apps[col] = apps[col].astype(str).str.replace(char, '')\n",
    "    # Convert col to numeric\n",
    "    apps[col] = pd.to_numeric(apps[col]) "
   ]
  },
  {
   "cell_type": "markdown",
   "metadata": {
    "dc": {
     "key": "18"
    },
    "deletable": false,
    "editable": false,
    "run_control": {
     "frozen": true
    },
    "tags": [
     "context"
    ]
   },
   "source": [
    "## 3. Exploring app categories\n",
    "<p>With more than 1 billion active users in 190 countries around the world, Google Play continues to be an important distribution platform to build a global audience. For businesses to get their apps in front of users, it's important to make them more quickly and easily discoverable on Google Play. To improve the overall search experience, Google has introduced the concept of grouping apps into categories.</p>\n",
    "<p>This brings us to the following questions:</p>\n",
    "<ul>\n",
    "<li>Which category has the highest share of (active) apps in the market? </li>\n",
    "<li>Is any specific category dominating the market?</li>\n",
    "<li>Which categories have the fewest number of apps?</li>\n",
    "</ul>\n",
    "<p>We will see that there are <code>33</code> unique app categories present in our dataset. <em>Family</em> and <em>Game</em> apps have the highest market prevalence. Interestingly, <em>Tools</em>, <em>Business</em> and <em>Medical</em> apps are also at the top.</p>"
   ]
  },
  {
   "cell_type": "code",
   "execution_count": 10,
   "metadata": {
    "dc": {
     "key": "18"
    },
    "tags": [
     "sample_code"
    ]
   },
   "outputs": [
    {
     "data": {
      "text/html": [
       "        <script type=\"text/javascript\">\n",
       "        window.PlotlyConfig = {MathJaxConfig: 'local'};\n",
       "        if (window.MathJax) {MathJax.Hub.Config({SVG: {font: \"STIX-Web\"}});}\n",
       "        if (typeof require !== 'undefined') {\n",
       "        require.undef(\"plotly\");\n",
       "        requirejs.config({\n",
       "            paths: {\n",
       "                'plotly': ['https://cdn.plot.ly/plotly-latest.min']\n",
       "            }\n",
       "        });\n",
       "        require(['plotly'], function(Plotly) {\n",
       "            window._Plotly = Plotly;\n",
       "        });\n",
       "        }\n",
       "        </script>\n",
       "        "
      ]
     },
     "metadata": {},
     "output_type": "display_data"
    },
    {
     "name": "stdout",
     "output_type": "stream",
     "text": [
      "Number of categories =  33\n"
     ]
    },
    {
     "data": {
      "image/png": "[encoded data removed]"
     },
     "metadata": {},
     "output_type": "display_data"
    }
   ],
   "source": [
    "import plotly\n",
    "plotly.offline.init_notebook_mode(connected=True)\n",
    "import plotly.graph_objs as go\n",
    "\n",
    "# Print the total number of unique categories\n",
    "num_categories = len(apps['Category'].unique())\n",
    "print('Number of categories = ', num_categories)\n",
    "\n",
    "# Count the number of apps in each 'Category' and sort them in descending order\n",
    "num_apps_in_category = apps['Category'].value_counts().sort_values(ascending = False)\n",
    "\n",
    "data = [go.Bar(\n",
    "        x = num_apps_in_category.index, # index = category name\n",
    "        y = num_apps_in_category.values, # value = count\n",
    ")]\n",
    "\n",
    "# plotly.offline.iplot(data)\n",
    "fig = go.Figure(data)\n",
    "fig.show(\"png\")"
   ]
  },
  {
   "cell_type": "markdown",
   "metadata": {
    "dc": {
     "key": "25"
    },
    "deletable": false,
    "editable": false,
    "run_control": {
     "frozen": true
    },
    "tags": [
     "context"
    ]
   },
   "source": [
    "## 4. Distribution of app ratings\n",
    "<p>After having witnessed the market share for each category of apps, let's see how all these apps perform on an average. App ratings (on a scale of 1 to 5) impact the discoverability, conversion of apps as well as the company's overall brand image. Ratings are a key performance indicator of an app.</p>\n",
    "<p>From our research, we found that the average volume of ratings across all app categories is <code>4.17</code>. The histogram plot is skewed to the right indicating that the majority of the apps are highly rated with only a few exceptions in the low-rated apps.</p>"
   ]
  },
  {
   "cell_type": "code",
   "execution_count": 12,
   "metadata": {
    "dc": {
     "key": "25"
    },
    "tags": [
     "sample_code"
    ]
   },
   "outputs": [
    {
     "name": "stdout",
     "output_type": "stream",
     "text": [
      "Average app rating =  4.173243045387998\n"
     ]
    },
    {
     "data": {
      "image/png": "[encoded data removed]"
     },
     "metadata": {},
     "output_type": "display_data"
    }
   ],
   "source": [
    "# Average rating of apps\n",
    "avg_app_rating = apps[\"Rating\"].mean()\n",
    "print('Average app rating = ', avg_app_rating)\n",
    "\n",
    "# Distribution of apps according to their ratings\n",
    "data = [go.Histogram(\n",
    "        x = apps['Rating']\n",
    ")]\n",
    "\n",
    "# Vertical dashed line to indicate the average app rating\n",
    "layout = {'shapes': [{\n",
    "              'type' :'line',\n",
    "              'x0': avg_app_rating,\n",
    "              'y0': 0,\n",
    "              'x1': avg_app_rating,\n",
    "              'y1': 1000,\n",
    "              'line': { 'dash': 'dashdot'}\n",
    "          }]\n",
    "          }\n",
    "\n",
    "# plotly.offline.iplot({'data': data, 'layout': layout})\n",
    "fig = go.Figure(data, layout)\n",
    "fig.show(\"png\")"
   ]
  },
  {
   "cell_type": "markdown",
   "metadata": {
    "dc": {
     "key": "32"
    },
    "deletable": false,
    "editable": false,
    "run_control": {
     "frozen": true
    },
    "tags": [
     "context"
    ]
   },
   "source": [
    "## 5. Size and price of an app\n",
    "<p>Let's now examine app size and app price. For size, if the mobile app is too large, it may be difficult and/or expensive for users to download. Lengthy download times could turn users off before they even experience your mobile app. Plus, each user's device has a finite amount of disk space. For price, some users expect their apps to be free or inexpensive. These problems compound if the developing world is part of your target market; especially due to internet speeds, earning power and exchange rates.</p>\n",
    "<p>How can we effectively come up with strategies to size and price our app?</p>\n",
    "<ul>\n",
    "<li>Does the size of an app affect its rating? </li>\n",
    "<li>Do users really care about system-heavy apps or do they prefer light-weighted apps? </li>\n",
    "<li>Does the price of an app affect its rating? </li>\n",
    "<li>Do users always prefer free apps over paid apps?</li>\n",
    "</ul>\n",
    "<p>We find that the majority of top rated apps (rating over 4) range from 2 MB to 20 MB. We also find that the vast majority of apps price themselves under \\$10.</p>"
   ]
  },
  {
   "cell_type": "code",
   "execution_count": null,
   "metadata": {
    "dc": {
     "key": "32"
    },
    "tags": [
     "sample_code"
    ]
   },
   "outputs": [],
   "source": [
    "%matplotlib inline\n",
    "import seaborn as sns\n",
    "sns.set_style(\"darkgrid\")\n",
    "import warnings\n",
    "warnings.filterwarnings(\"ignore\")\n",
    "\n",
    "# Filter rows where both Rating and Size values are not null\n",
    "apps_with_size_and_rating_present = apps[(~apps[...].isnull()) & (~apps[...].isnull())]\n",
    "\n",
    "# Subset for categories with at least 250 apps\n",
    "large_categories = apps_with_size_and_rating_present.groupby(...).filter(lambda x: len(x) >= ...).reset_index()\n",
    "\n",
    "# Plot size vs. rating\n",
    "plt1 = sns.jointplot(x = large_categories[...], y = large_categories[...], kind = 'hex')\n",
    "\n",
    "# Subset apps whose 'Type' is 'Paid'\n",
    "paid_apps = apps_with_size_and_rating_present[apps_with_size_and_rating_present[...] == ...]\n",
    "\n",
    "# Plot price vs. rating\n",
    "plt2 = sns.jointplot(x = paid_apps[...], y = paid_apps[...])"
   ]
  },
  {
   "cell_type": "markdown",
   "metadata": {
    "dc": {
     "key": "39"
    },
    "deletable": false,
    "editable": false,
    "run_control": {
     "frozen": true
    },
    "tags": [
     "context"
    ]
   },
   "source": [
    "## 6. Relation between app category and app price\n",
    "<p>So now comes the hard part. How are companies and developers supposed to make ends meet? What monetization strategies can companies use to maximize profit? The costs of apps are largely based on features, complexity, and platform.</p>\n",
    "<p>There are many factors to consider when selecting the right pricing strategy for your mobile app. It is important to consider the willingness of your customer to pay for your app. A wrong price could break the deal before the download even happens. Potential customers could be turned off by what they perceive to be a shocking cost, or they might delete an app they’ve downloaded after receiving too many ads or simply not getting their money's worth.</p>\n",
    "<p>Different categories demand different price ranges. Some apps that are simple and used daily, like the calculator app, should probably be kept free. However, it would make sense to charge for a highly-specialized medical app that diagnoses diabetic patients. Below, we see that <em>Medical and Family</em> apps are the most expensive. Some medical apps extend even up to \\$80! All game apps are reasonably priced below \\$20.</p>"
   ]
  },
  {
   "cell_type": "code",
   "execution_count": null,
   "metadata": {
    "dc": {
     "key": "39"
    },
    "tags": [
     "sample_code"
    ]
   },
   "outputs": [],
   "source": [
    "import matplotlib.pyplot as plt\n",
    "fig, ax = plt.subplots()\n",
    "fig.set_size_inches(15, 8)\n",
    "\n",
    "# Select a few popular app categories\n",
    "popular_app_cats = apps[apps.Category.isin(['GAME', 'FAMILY', 'PHOTOGRAPHY',\n",
    "                                            'MEDICAL', 'TOOLS', 'FINANCE',\n",
    "                                            'LIFESTYLE','BUSINESS'])]\n",
    "\n",
    "# Examine the price trend by plotting Price vs Category\n",
    "ax = sns.stripplot(x = popular_app_cats[...], y = popular_app_cats[...], jitter=True, linewidth=1)\n",
    "ax.set_title('App pricing trend across categories')\n",
    "\n",
    "# Apps whose Price is greater than 200\n",
    "apps_above_200 = popular_app_cats[['Category', 'App', 'Price']][popular_app_cats[...] > 200]\n",
    "apps_above_200"
   ]
  },
  {
   "cell_type": "markdown",
   "metadata": {
    "dc": {
     "key": "46"
    },
    "deletable": false,
    "editable": false,
    "run_control": {
     "frozen": true
    },
    "tags": [
     "context"
    ]
   },
   "source": [
    "## 7. Filter out \"junk\" apps\n",
    "<p>It looks like a bunch of the really expensive apps are \"junk\" apps. That is, apps that don't really have a purpose. Some app developer may create an app called <em>I Am Rich Premium</em> or <em>most expensive app (H)</em> just for a joke or to test their app development skills. Some developers even do this with malicious intent and try to make money by hoping people accidentally click purchase on their app in the store.</p>\n",
    "<p>Let's filter out these junk apps and re-do our visualization. The distribution of apps under \\$20 becomes clearer.</p>"
   ]
  },
  {
   "cell_type": "code",
   "execution_count": null,
   "metadata": {
    "dc": {
     "key": "46"
    },
    "tags": [
     "sample_code"
    ]
   },
   "outputs": [],
   "source": [
    "# Select apps priced below $100\n",
    "apps_under_100 = ...\n",
    "\n",
    "fig, ax = plt.subplots()\n",
    "fig.set_size_inches(15, 8)\n",
    "\n",
    "# Examine price vs category with the authentic apps\n",
    "ax = sns.stripplot(x=..., y=..., data=...,\n",
    "                   jitter=True, linewidth=1)\n",
    "ax.set_title('App pricing trend across categories after filtering for junk apps')"
   ]
  },
  {
   "cell_type": "markdown",
   "metadata": {
    "dc": {
     "key": "53"
    },
    "deletable": false,
    "editable": false,
    "run_control": {
     "frozen": true
    },
    "tags": [
     "context"
    ]
   },
   "source": [
    "## 8. Popularity of paid apps vs free apps\n",
    "<p>For apps in the Play Store today, there are five types of pricing strategies: free, freemium, paid, paymium, and subscription. Let's focus on free and paid apps only. Some characteristics of free apps are:</p>\n",
    "<ul>\n",
    "<li>Free to download.</li>\n",
    "<li>Main source of income often comes from advertisements.</li>\n",
    "<li>Often created by companies that have other products and the app serves as an extension of those products.</li>\n",
    "<li>Can serve as a tool for customer retention, communication, and customer service.</li>\n",
    "</ul>\n",
    "<p>Some characteristics of paid apps are:</p>\n",
    "<ul>\n",
    "<li>Users are asked to pay once for the app to download and use it.</li>\n",
    "<li>The user can't really get a feel for the app before buying it.</li>\n",
    "</ul>\n",
    "<p>Are paid apps installed as much as free apps? It turns out that paid apps have a relatively lower number of installs than free apps, though the difference is not as stark as I would have expected!</p>"
   ]
  },
  {
   "cell_type": "code",
   "execution_count": null,
   "metadata": {
    "dc": {
     "key": "53"
    },
    "tags": [
     "sample_code"
    ]
   },
   "outputs": [],
   "source": [
    "trace0 = go.Box(\n",
    "    # Data for paid apps\n",
    "    y=apps[apps['Type'] == ...]['Installs'],\n",
    "    name = 'Paid'\n",
    ")\n",
    "\n",
    "trace1 = go.Box(\n",
    "    # Data for free apps\n",
    "    y=apps[apps['Type'] == ...]['Installs'],\n",
    "    name = 'Free'\n",
    ")\n",
    "\n",
    "layout = go.Layout(\n",
    "    title = \"Number of downloads of paid apps vs. free apps\",\n",
    "    yaxis = dict(\n",
    "        type = 'log',\n",
    "        autorange = True\n",
    "    )\n",
    ")\n",
    "\n",
    "# Add trace0 and trace1 to a list for plotting\n",
    "data = ...\n",
    "plotly.offline.iplot({'data': data, 'layout': layout})"
   ]
  },
  {
   "cell_type": "markdown",
   "metadata": {
    "dc": {
     "key": "60"
    },
    "deletable": false,
    "editable": false,
    "run_control": {
     "frozen": true
    },
    "tags": [
     "context"
    ]
   },
   "source": [
    "## 9. Sentiment analysis of user reviews\n",
    "<p>Mining user review data to determine how people feel about your product, brand, or service can be done using a technique called sentiment analysis. User reviews for apps can be analyzed to identify if the mood is positive, negative or neutral about that app. For example, positive words in an app review might include words such as 'amazing', 'friendly', 'good', 'great', and 'love'. Negative words might be words like 'malware', 'hate', 'problem', 'refund', and 'incompetent'.</p>\n",
    "<p>By plotting sentiment polarity scores of user reviews for paid and free apps, we observe that free apps receive a lot of harsh comments, as indicated by the outliers on the negative y-axis. Reviews for paid apps appear never to be extremely negative. This may indicate something about app quality, i.e., paid apps being of higher quality than free apps on average. The median polarity score for paid apps is a little higher than free apps, thereby syncing with our previous observation.</p>\n",
    "<p>In this notebook, we analyzed over ten thousand apps from the Google Play Store. We can use our findings to inform our decisions should we ever wish to create an app ourselves.</p>"
   ]
  },
  {
   "cell_type": "code",
   "execution_count": null,
   "metadata": {
    "dc": {
     "key": "60"
    },
    "tags": [
     "sample_code"
    ]
   },
   "outputs": [],
   "source": [
    "# Load user_reviews.csv\n",
    "reviews_df = ...\n",
    "\n",
    "# Join and merge the two dataframe\n",
    "merged_df = pd.merge(..., ..., on = ..., how = \"inner\")\n",
    "\n",
    "# Drop NA values from Sentiment and Translated_Review columns\n",
    "merged_df = merged_df.dropna(subset=['Sentiment', 'Translated_Review'])\n",
    "\n",
    "sns.set_style('ticks')\n",
    "fig, ax = plt.subplots()\n",
    "fig.set_size_inches(11, 8)\n",
    "\n",
    "# User review sentiment polarity for paid vs. free apps\n",
    "ax = sns.boxplot(x = ..., y = ..., data = ...)\n",
    "ax.set_title('Sentiment Polarity Distribution')"
   ]
  }
 ],
 "metadata": {
  "kernelspec": {
   "display_name": "Python 3",
   "language": "python",
   "name": "python3"
  },
  "language_info": {
   "codemirror_mode": {
    "name": "ipython",
    "version": 3
   },
   "file_extension": ".py",
   "mimetype": "text/x-python",
   "name": "python",
   "nbconvert_exporter": "python",
   "pygments_lexer": "ipython3",
   "version": "3.7.6"
  }
 },
 "nbformat": 4,
 "nbformat_minor": 2
}
